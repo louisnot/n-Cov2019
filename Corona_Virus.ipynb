{
 "cells": [
  {
   "cell_type": "code",
   "execution_count": 1,
   "metadata": {},
   "outputs": [],
   "source": [
    "import numpy as np\n",
    "import matplotlib.pyplot as plt\n",
    "import pandas as pd"
   ]
  },
  {
   "cell_type": "code",
   "execution_count": 2,
   "metadata": {},
   "outputs": [],
   "source": [
    "infection = pd.read_csv('Classeur.csv', sep=\";\",index_col='Date',parse_dates=True)"
   ]
  },
  {
   "cell_type": "code",
   "execution_count": 3,
   "metadata": {
    "scrolled": true
   },
   "outputs": [
    {
     "name": "stdout",
     "output_type": "stream",
     "text": [
      "(33, 1) (33, 1) (33, 1)\n"
     ]
    },
    {
     "data": {
      "text/plain": [
       "[<matplotlib.lines.Line2D at 0x11eedae50>]"
      ]
     },
     "execution_count": 3,
     "metadata": {},
     "output_type": "execute_result"
    },
    {
     "data": {
      "image/png": "[encoded data removed]",
      "text/plain": [
       "<Figure size 432x288 with 1 Axes>"
      ]
     },
     "metadata": {
      "needs_background": "light"
     },
     "output_type": "display_data"
    }
   ],
   "source": [
    "infection.head()\n",
    "x=infection['Infected']\n",
    "z=infection['Days']\n",
    "y=infection['Dead']\n",
    "y = y.values.reshape(y.shape[0],1)\n",
    "x = x.values.reshape(x.shape[0],1)\n",
    "z = z.values.reshape(z.shape[0],1)\n",
    "print(x.shape,y.shape,z.shape)\n",
    "plt.plot(infection['Days'],infection['Dead'], markersize=4)"
   ]
  },
  {
   "cell_type": "code",
   "execution_count": 4,
   "metadata": {},
   "outputs": [
    {
     "data": {
      "text/plain": [
       "array([[  0],\n",
       "       [  0],\n",
       "       [  0],\n",
       "       [  0],\n",
       "       [  0],\n",
       "       [  0],\n",
       "       [  0],\n",
       "       [  0],\n",
       "       [  1],\n",
       "       [  1],\n",
       "       [  1],\n",
       "       [  1],\n",
       "       [  1],\n",
       "       [  1],\n",
       "       [  1],\n",
       "       [  1],\n",
       "       [  2],\n",
       "       [  3],\n",
       "       [  4],\n",
       "       [  4],\n",
       "       [  6],\n",
       "       [ 17],\n",
       "       [ 25],\n",
       "       [ 41],\n",
       "       [ 55],\n",
       "       [ 65],\n",
       "       [ 80],\n",
       "       [106],\n",
       "       [132],\n",
       "       [170],\n",
       "       [213],\n",
       "       [268],\n",
       "       [304]])"
      ]
     },
     "execution_count": 4,
     "metadata": {},
     "output_type": "execute_result"
    }
   ],
   "source": [
    "y"
   ]
  },
  {
   "cell_type": "code",
   "execution_count": 5,
   "metadata": {},
   "outputs": [
    {
     "data": {
      "text/plain": [
       "<matplotlib.legend.Legend at 0x1196708d0>"
      ]
     },
     "execution_count": 5,
     "metadata": {},
     "output_type": "execute_result"
    },
    {
     "data": {
      "image/png": "[encoded data removed]",
      "text/plain": [
       "<Figure size 720x504 with 1 Axes>"
      ]
     },
     "metadata": {
      "needs_background": "light"
     },
     "output_type": "display_data"
    }
   ],
   "source": [
    "plt.figure(figsize=(10,7))\n",
    "infection['Infected'].plot(label=\"Infectés\",color='blue')\n",
    "infection['Dead'].plot(label=\"Décédés\",color='red')\n",
    "plt.legend()"
   ]
  },
  {
   "cell_type": "code",
   "execution_count": 6,
   "metadata": {},
   "outputs": [],
   "source": [
    "#X.shape, y.shape #,Z.shape"
   ]
  },
  {
   "cell_type": "code",
   "execution_count": 7,
   "metadata": {},
   "outputs": [
    {
     "data": {
      "text/plain": [
       "array([[0.000e+00, 0.000e+00, 1.000e+00],\n",
       "       [1.000e+00, 1.000e+00, 1.000e+00],\n",
       "       [4.000e+00, 2.000e+00, 1.000e+00],\n",
       "       [9.000e+00, 3.000e+00, 1.000e+00],\n",
       "       [1.600e+01, 4.000e+00, 1.000e+00],\n",
       "       [2.500e+01, 5.000e+00, 1.000e+00],\n",
       "       [3.600e+01, 6.000e+00, 1.000e+00],\n",
       "       [4.900e+01, 7.000e+00, 1.000e+00],\n",
       "       [6.400e+01, 8.000e+00, 1.000e+00],\n",
       "       [8.100e+01, 9.000e+00, 1.000e+00],\n",
       "       [1.000e+02, 1.000e+01, 1.000e+00],\n",
       "       [1.210e+02, 1.100e+01, 1.000e+00],\n",
       "       [1.440e+02, 1.200e+01, 1.000e+00],\n",
       "       [1.690e+02, 1.300e+01, 1.000e+00],\n",
       "       [1.960e+02, 1.400e+01, 1.000e+00],\n",
       "       [2.250e+02, 1.500e+01, 1.000e+00],\n",
       "       [2.560e+02, 1.600e+01, 1.000e+00],\n",
       "       [2.890e+02, 1.700e+01, 1.000e+00],\n",
       "       [3.240e+02, 1.800e+01, 1.000e+00],\n",
       "       [3.610e+02, 1.900e+01, 1.000e+00],\n",
       "       [4.000e+02, 2.000e+01, 1.000e+00],\n",
       "       [4.410e+02, 2.100e+01, 1.000e+00],\n",
       "       [4.840e+02, 2.200e+01, 1.000e+00],\n",
       "       [5.290e+02, 2.300e+01, 1.000e+00],\n",
       "       [5.760e+02, 2.400e+01, 1.000e+00],\n",
       "       [6.250e+02, 2.500e+01, 1.000e+00],\n",
       "       [6.760e+02, 2.600e+01, 1.000e+00],\n",
       "       [7.290e+02, 2.700e+01, 1.000e+00],\n",
       "       [7.840e+02, 2.800e+01, 1.000e+00],\n",
       "       [8.410e+02, 2.900e+01, 1.000e+00],\n",
       "       [9.000e+02, 3.000e+01, 1.000e+00],\n",
       "       [9.610e+02, 3.100e+01, 1.000e+00],\n",
       "       [1.024e+03, 3.200e+01, 1.000e+00]])"
      ]
     },
     "execution_count": 7,
     "metadata": {},
     "output_type": "execute_result"
    }
   ],
   "source": [
    "Z = np.hstack((z,np.ones(z.shape)))\n",
    "Z= np.hstack((z**2,Z))\n",
    "#X\n",
    "#Y = np.hstack((y,np.ones(z.shape)))\n",
    "Z"
   ]
  },
  {
   "cell_type": "code",
   "execution_count": 8,
   "metadata": {},
   "outputs": [
    {
     "name": "stdout",
     "output_type": "stream",
     "text": [
      "[[ 0.39141101]\n",
      " [-0.40580005]\n",
      " [ 0.43121657]]\n"
     ]
    }
   ],
   "source": [
    "theta = np.random.randn(3,1)\n",
    "print(theta)"
   ]
  },
  {
   "cell_type": "code",
   "execution_count": 9,
   "metadata": {},
   "outputs": [],
   "source": [
    "def model(X,theta):\n",
    "    return X.dot(theta)"
   ]
  },
  {
   "cell_type": "code",
   "execution_count": 10,
   "metadata": {},
   "outputs": [
    {
     "data": {
      "text/plain": [
       "<matplotlib.legend.Legend at 0x11fa11090>"
      ]
     },
     "execution_count": 10,
     "metadata": {},
     "output_type": "execute_result"
    },
    {
     "data": {
      "image/png": "[encoded data removed]",
      "text/plain": [
       "<Figure size 864x576 with 1 Axes>"
      ]
     },
     "metadata": {
      "needs_background": "light"
     },
     "output_type": "display_data"
    }
   ],
   "source": [
    "plt.figure(figsize=(12,8))\n",
    "plt.xlabel('Days')\n",
    "plt.ylabel('Death toll')\n",
    "plt.plot(z,y, c='red', label='Dataset')\n",
    "\n",
    "plt.plot(z,model(Z,theta), c='pink',label='before gradient theta')\n",
    "plt.legend()"
   ]
  },
  {
   "cell_type": "code",
   "execution_count": 11,
   "metadata": {},
   "outputs": [],
   "source": [
    "def cost_function(X,y,theta):\n",
    "    m = len(y)\n",
    "    return 1/(2*m)*np.sum((model(X,theta)-y)**2)"
   ]
  },
  {
   "cell_type": "code",
   "execution_count": 12,
   "metadata": {},
   "outputs": [
    {
     "name": "stdout",
     "output_type": "stream",
     "text": [
      "5430.3685941336935\n"
     ]
    }
   ],
   "source": [
    "print(cost_function(Z,y,theta))"
   ]
  },
  {
   "cell_type": "code",
   "execution_count": 13,
   "metadata": {},
   "outputs": [],
   "source": [
    "def grad(X,y,theta):\n",
    "    m = len(y)\n",
    "    return 1/m*X.T.dot(model(X,theta)- y)"
   ]
  },
  {
   "cell_type": "code",
   "execution_count": 14,
   "metadata": {},
   "outputs": [
    {
     "name": "stdout",
     "output_type": "stream",
     "text": [
      "[[44498.13070685]\n",
      " [ 1862.80172445]\n",
      " [   84.08211151]]\n"
     ]
    }
   ],
   "source": [
    "print(grad(Z,y,theta))"
   ]
  },
  {
   "cell_type": "code",
   "execution_count": 15,
   "metadata": {},
   "outputs": [],
   "source": [
    "def gradient_descent(X,y,theta, learningRate,n_iterations):\n",
    "    theta_history = np.zeros((n_iterations,3))\n",
    "    cost_history=np.zeros(n_iterations)\n",
    "    for i in range(0,n_iterations):\n",
    "        theta = theta - learningRate*grad(X,y,theta)\n",
    "        cost_history[i]=cost_function(X,y,theta)\n",
    "        theta_history[i,:]=theta.T\n",
    "    return theta, cost_history,theta_history"
   ]
  },
  {
   "cell_type": "code",
   "execution_count": 32,
   "metadata": {},
   "outputs": [],
   "source": [
    "learning_rate = 0.000009\n",
    "n_iterations=1000\n",
    "theta_final, cost_history, theta_history = gradient_descent(Z,y,theta,learning_rate,n_iterations)"
   ]
  },
  {
   "cell_type": "code",
   "execution_count": 33,
   "metadata": {},
   "outputs": [
    {
     "name": "stdout",
     "output_type": "stream",
     "text": [
      "[[ 0.23649138]\n",
      " [-1.64254674]\n",
      " [ 0.32211929]]\n",
      "(1000, 3)\n"
     ]
    }
   ],
   "source": [
    "print(theta_final)\n",
    "print(theta_history.shape)"
   ]
  },
  {
   "cell_type": "code",
   "execution_count": 34,
   "metadata": {},
   "outputs": [],
   "source": [
    "prediction=model(Z,theta_final)"
   ]
  },
  {
   "cell_type": "code",
   "execution_count": 35,
   "metadata": {},
   "outputs": [
    {
     "data": {
      "text/plain": [
       "<matplotlib.legend.Legend at 0x120048590>"
      ]
     },
     "execution_count": 35,
     "metadata": {},
     "output_type": "execute_result"
    },
    {
     "data": {
      "image/png": "[encoded data removed]",
      "text/plain": [
       "<Figure size 432x288 with 1 Axes>"
      ]
     },
     "metadata": {
      "needs_background": "light"
     },
     "output_type": "display_data"
    }
   ],
   "source": [
    "plt.plot(z,y, label='Dataset')\n",
    "plt.plot(z,prediction,color='r',label='model')\n",
    "plt.legend()"
   ]
  },
  {
   "cell_type": "code",
   "execution_count": 36,
   "metadata": {},
   "outputs": [
    {
     "data": {
      "text/plain": [
       "207.995815285651"
      ]
     },
     "execution_count": 36,
     "metadata": {},
     "output_type": "execute_result"
    }
   ],
   "source": [
    "#y=A*r**x\n",
    "testpred = theta_final.item(0)*(32**2)+theta_final.item(1)*21+theta_final.item(2) # Number of death= theta(1)*nb of days + theta(0)\n",
    "testpred"
   ]
  },
  {
   "cell_type": "code",
   "execution_count": 37,
   "metadata": {},
   "outputs": [
    {
     "data": {
      "text/plain": [
       "[<matplotlib.lines.Line2D at 0x12012f290>]"
      ]
     },
     "execution_count": 37,
     "metadata": {},
     "output_type": "execute_result"
    },
    {
     "data": {
      "image/png": "[encoded data removed]",
      "text/plain": [
       "<Figure size 432x288 with 1 Axes>"
      ]
     },
     "metadata": {
      "needs_background": "light"
     },
     "output_type": "display_data"
    }
   ],
   "source": [
    "plt.plot(range(n_iterations),cost_history)"
   ]
  },
  {
   "cell_type": "code",
   "execution_count": 38,
   "metadata": {},
   "outputs": [],
   "source": [
    "def coef_deter(y,pred):\n",
    "    u= ((y-pred)**2).sum()\n",
    "    v= ((y-y.mean())**2).sum()\n",
    "    return 1 - u/v"
   ]
  },
  {
   "cell_type": "code",
   "execution_count": 39,
   "metadata": {},
   "outputs": [
    {
     "data": {
      "text/plain": [
       "0.7696802526340688"
      ]
     },
     "execution_count": 39,
     "metadata": {},
     "output_type": "execute_result"
    }
   ],
   "source": [
    "coef_deter(y,prediction) # Not linear problem 0.45 "
   ]
  },
  {
   "cell_type": "code",
   "execution_count": null,
   "metadata": {},
   "outputs": [],
   "source": []
  },
  {
   "cell_type": "code",
   "execution_count": null,
   "metadata": {},
   "outputs": [],
   "source": []
  }
 ],
 "metadata": {
  "kernelspec": {
   "display_name": "Python 3",
   "language": "python",
   "name": "python3"
  },
  "language_info": {
   "codemirror_mode": {
    "name": "ipython",
    "version": 3
   },
   "file_extension": ".py",
   "mimetype": "text/x-python",
   "name": "python",
   "nbconvert_exporter": "python",
   "pygments_lexer": "ipython3",
   "version": "3.7.4"
  }
 },
 "nbformat": 4,
 "nbformat_minor": 2
}
