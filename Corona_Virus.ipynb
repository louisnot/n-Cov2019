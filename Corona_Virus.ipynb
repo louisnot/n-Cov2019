{
 "cells": [
  {
   "cell_type": "code",
   "execution_count": 1,
   "metadata": {},
   "outputs": [],
   "source": [
    "import numpy as np\n",
    "import matplotlib.pyplot as plt\n",
    "import pandas as pd"
   ]
  },
  {
   "cell_type": "code",
   "execution_count": 2,
   "metadata": {},
   "outputs": [],
   "source": [
    "infection = pd.read_csv('Classeur.csv', sep=\";\",index_col='Date',parse_dates=True)"
   ]
  },
  {
   "cell_type": "code",
   "execution_count": 3,
   "metadata": {
    "scrolled": true
   },
   "outputs": [
    {
     "name": "stdout",
     "output_type": "stream",
     "text": [
      "(31, 1) (31, 1) (31, 1)\n"
     ]
    },
    {
     "data": {
      "text/plain": [
       "[<matplotlib.lines.Line2D at 0x11f94f210>]"
      ]
     },
     "execution_count": 3,
     "metadata": {},
     "output_type": "execute_result"
    },
    {
     "data": {
      "image/png": "[encoded data removed]",
      "text/plain": [
       "<Figure size 432x288 with 1 Axes>"
      ]
     },
     "metadata": {
      "needs_background": "light"
     },
     "output_type": "display_data"
    }
   ],
   "source": [
    "infection.head()\n",
    "x=infection['Infected']\n",
    "z=infection['Days']\n",
    "y=infection['Dead']\n",
    "y = y.values.reshape(y.shape[0],1)\n",
    "x = x.values.reshape(x.shape[0],1)\n",
    "z = z.values.reshape(z.shape[0],1)\n",
    "print(x.shape,y.shape,z.shape)\n",
    "plt.plot(infection['Days'],infection['Dead'], markersize=4)"
   ]
  },
  {
   "cell_type": "code",
   "execution_count": 4,
   "metadata": {},
   "outputs": [
    {
     "data": {
      "text/plain": [
       "array([[  0],\n",
       "       [  0],\n",
       "       [  0],\n",
       "       [  0],\n",
       "       [  0],\n",
       "       [  0],\n",
       "       [  0],\n",
       "       [  0],\n",
       "       [  1],\n",
       "       [  1],\n",
       "       [  1],\n",
       "       [  1],\n",
       "       [  1],\n",
       "       [  1],\n",
       "       [  1],\n",
       "       [  1],\n",
       "       [  2],\n",
       "       [  3],\n",
       "       [  4],\n",
       "       [  4],\n",
       "       [  6],\n",
       "       [ 17],\n",
       "       [ 25],\n",
       "       [ 41],\n",
       "       [ 55],\n",
       "       [ 65],\n",
       "       [ 80],\n",
       "       [106],\n",
       "       [132],\n",
       "       [170],\n",
       "       [213]])"
      ]
     },
     "execution_count": 4,
     "metadata": {},
     "output_type": "execute_result"
    }
   ],
   "source": [
    "y"
   ]
  },
  {
   "cell_type": "code",
   "execution_count": 5,
   "metadata": {},
   "outputs": [
    {
     "data": {
      "text/plain": [
       "<matplotlib.legend.Legend at 0x11e387490>"
      ]
     },
     "execution_count": 5,
     "metadata": {},
     "output_type": "execute_result"
    },
    {
     "data": {
      "image/png": "[encoded data removed]",
      "text/plain": [
       "<Figure size 720x504 with 1 Axes>"
      ]
     },
     "metadata": {
      "needs_background": "light"
     },
     "output_type": "display_data"
    }
   ],
   "source": [
    "plt.figure(figsize=(10,7))\n",
    "infection['Infected'].plot(label=\"Infectés\",color='blue')\n",
    "infection['Dead'].plot(label=\"Décédés\",color='red')\n",
    "plt.legend()"
   ]
  },
  {
   "cell_type": "code",
   "execution_count": 6,
   "metadata": {},
   "outputs": [],
   "source": [
    "#X.shape, y.shape #,Z.shape"
   ]
  },
  {
   "cell_type": "code",
   "execution_count": 7,
   "metadata": {},
   "outputs": [
    {
     "data": {
      "text/plain": [
       "array([[  0.,   0.,   1.],\n",
       "       [  1.,   1.,   1.],\n",
       "       [  4.,   2.,   1.],\n",
       "       [  9.,   3.,   1.],\n",
       "       [ 16.,   4.,   1.],\n",
       "       [ 25.,   5.,   1.],\n",
       "       [ 36.,   6.,   1.],\n",
       "       [ 49.,   7.,   1.],\n",
       "       [ 64.,   8.,   1.],\n",
       "       [ 81.,   9.,   1.],\n",
       "       [100.,  10.,   1.],\n",
       "       [121.,  11.,   1.],\n",
       "       [144.,  12.,   1.],\n",
       "       [169.,  13.,   1.],\n",
       "       [196.,  14.,   1.],\n",
       "       [225.,  15.,   1.],\n",
       "       [256.,  16.,   1.],\n",
       "       [289.,  17.,   1.],\n",
       "       [324.,  18.,   1.],\n",
       "       [361.,  19.,   1.],\n",
       "       [400.,  20.,   1.],\n",
       "       [441.,  21.,   1.],\n",
       "       [484.,  22.,   1.],\n",
       "       [529.,  23.,   1.],\n",
       "       [576.,  24.,   1.],\n",
       "       [625.,  25.,   1.],\n",
       "       [676.,  26.,   1.],\n",
       "       [729.,  27.,   1.],\n",
       "       [784.,  28.,   1.],\n",
       "       [841.,  29.,   1.],\n",
       "       [900.,  30.,   1.]])"
      ]
     },
     "execution_count": 7,
     "metadata": {},
     "output_type": "execute_result"
    }
   ],
   "source": [
    "Z = np.hstack((z,np.ones(z.shape)))\n",
    "Z= np.hstack((z**2,Z))\n",
    "#X\n",
    "#Y = np.hstack((y,np.ones(z.shape)))\n",
    "Z"
   ]
  },
  {
   "cell_type": "code",
   "execution_count": 49,
   "metadata": {},
   "outputs": [
    {
     "data": {
      "text/plain": [
       "array([[0.33392997],\n",
       "       [1.42615047],\n",
       "       [0.53240006]])"
      ]
     },
     "execution_count": 49,
     "metadata": {},
     "output_type": "execute_result"
    }
   ],
   "source": [
    "theta = np.random.randn(3,1)\n",
    "theta"
   ]
  },
  {
   "cell_type": "code",
   "execution_count": 50,
   "metadata": {},
   "outputs": [
    {
     "data": {
      "text/plain": [
       "[<matplotlib.lines.Line2D at 0x120547710>]"
      ]
     },
     "execution_count": 50,
     "metadata": {},
     "output_type": "execute_result"
    },
    {
     "data": {
      "image/png": "[encoded data removed]",
      "text/plain": [
       "<Figure size 432x288 with 1 Axes>"
      ]
     },
     "metadata": {
      "needs_background": "light"
     },
     "output_type": "display_data"
    }
   ],
   "source": [
    "def model(X,theta):\n",
    "    return X.dot(theta)\n",
    "plt.scatter(z,y)\n",
    "plt.plot(z,model(Z,theta))"
   ]
  },
  {
   "cell_type": "code",
   "execution_count": 51,
   "metadata": {},
   "outputs": [
    {
     "data": {
      "text/plain": [
       "<matplotlib.legend.Legend at 0x120823d90>"
      ]
     },
     "execution_count": 51,
     "metadata": {},
     "output_type": "execute_result"
    },
    {
     "data": {
      "image/png": "[encoded data removed]",
      "text/plain": [
       "<Figure size 864x576 with 1 Axes>"
      ]
     },
     "metadata": {
      "needs_background": "light"
     },
     "output_type": "display_data"
    }
   ],
   "source": [
    "plt.figure(figsize=(12,8))\n",
    "plt.xlabel('Days')\n",
    "plt.ylabel('Death toll')\n",
    "plt.plot(z,y, c='red', label='Dataset')\n",
    "\n",
    "plt.plot(z,model(Z,theta), c='pink',label='before gradient theta')\n",
    "plt.legend()"
   ]
  },
  {
   "cell_type": "code",
   "execution_count": 52,
   "metadata": {},
   "outputs": [],
   "source": [
    "def cost_function(X,y,theta):\n",
    "    m = len(y)\n",
    "    return 1/(2*m)*np.sum((model(X,theta)-y)**2)"
   ]
  },
  {
   "cell_type": "code",
   "execution_count": 53,
   "metadata": {},
   "outputs": [
    {
     "name": "stdout",
     "output_type": "stream",
     "text": [
      "6491.193963031196\n"
     ]
    }
   ],
   "source": [
    "print(cost_function(Z,y,theta))"
   ]
  },
  {
   "cell_type": "code",
   "execution_count": 54,
   "metadata": {},
   "outputs": [],
   "source": [
    "def grad(X,y,theta):\n",
    "    m = len(y)\n",
    "    return 1/m*X.T.dot(model(X,theta)- y)"
   ]
  },
  {
   "cell_type": "code",
   "execution_count": 55,
   "metadata": {},
   "outputs": [
    {
     "name": "stdout",
     "output_type": "stream",
     "text": [
      "[[44639.59783954]\n",
      " [ 1959.34921139]\n",
      " [   93.74103859]]\n"
     ]
    }
   ],
   "source": [
    "print(grad(Z,y,theta))"
   ]
  },
  {
   "cell_type": "code",
   "execution_count": 56,
   "metadata": {},
   "outputs": [],
   "source": [
    "def gradient_descent(X,y,theta, learningRate,n_iterations):\n",
    "    theta_history = np.zeros((n_iterations,3))\n",
    "    cost_history=np.zeros(n_iterations)\n",
    "    for i in range(0,n_iterations):\n",
    "        theta = theta - learningRate*grad(X,y,theta)\n",
    "        cost_history[i]=cost_function(X,y,theta)\n",
    "        theta_history[i,:]=theta.T\n",
    "    return theta, cost_history,theta_history"
   ]
  },
  {
   "cell_type": "code",
   "execution_count": 165,
   "metadata": {},
   "outputs": [],
   "source": [
    "learning_rate = 0.00001\n",
    "n_iterations=1000\n",
    "theta_final, cost_history, theta_history = gradient_descent(Z,y,theta,learning_rate,n_iterations)"
   ]
  },
  {
   "cell_type": "code",
   "execution_count": 166,
   "metadata": {},
   "outputs": [
    {
     "name": "stdout",
     "output_type": "stream",
     "text": [
      "[[0.1202033 ]\n",
      " [0.24397218]\n",
      " [0.41051339]]\n",
      "(1000, 3)\n"
     ]
    }
   ],
   "source": [
    "print(theta_final)\n",
    "print(theta_history.shape)"
   ]
  },
  {
   "cell_type": "code",
   "execution_count": 167,
   "metadata": {},
   "outputs": [],
   "source": [
    "prediction=model(Z,theta_final)"
   ]
  },
  {
   "cell_type": "code",
   "execution_count": 168,
   "metadata": {},
   "outputs": [
    {
     "data": {
      "text/plain": [
       "[<matplotlib.lines.Line2D at 0x122ca9110>]"
      ]
     },
     "execution_count": 168,
     "metadata": {},
     "output_type": "execute_result"
    },
    {
     "data": {
      "image/png": "[encoded data removed]",
      "text/plain": [
       "<Figure size 432x288 with 1 Axes>"
      ]
     },
     "metadata": {
      "needs_background": "light"
     },
     "output_type": "display_data"
    }
   ],
   "source": [
    "plt.plot(z,y)\n",
    "plt.plot(z,prediction,color='r')"
   ]
  },
  {
   "cell_type": "code",
   "execution_count": 169,
   "metadata": {},
   "outputs": [
    {
     "data": {
      "text/plain": [
       "58.54358665795585"
      ]
     },
     "execution_count": 169,
     "metadata": {},
     "output_type": "execute_result"
    }
   ],
   "source": [
    "testpred = theta_final.item(0)*(21**2)+theta_final.item(1)*21+theta_final.item(2) # Number of death= theta(1)*nb of days + theta(0)\n",
    "testpred"
   ]
  },
  {
   "cell_type": "code",
   "execution_count": 171,
   "metadata": {},
   "outputs": [
    {
     "data": {
      "text/plain": [
       "[<matplotlib.lines.Line2D at 0x122e85410>]"
      ]
     },
     "execution_count": 171,
     "metadata": {},
     "output_type": "execute_result"
    },
    {
     "data": {
      "image/png": "[encoded data removed]",
      "text/plain": [
       "<Figure size 432x288 with 1 Axes>"
      ]
     },
     "metadata": {
      "needs_background": "light"
     },
     "output_type": "display_data"
    }
   ],
   "source": [
    "plt.plot(range(n_iterations),cost_history)"
   ]
  },
  {
   "cell_type": "code",
   "execution_count": 172,
   "metadata": {},
   "outputs": [],
   "source": [
    "def coef_deter(y,pred):\n",
    "    u= ((y-pred)**2).sum()\n",
    "    v= ((y-y.mean())**2).sum()\n",
    "    return 1 - u/v"
   ]
  },
  {
   "cell_type": "code",
   "execution_count": 173,
   "metadata": {},
   "outputs": [
    {
     "data": {
      "text/plain": [
       "0.6645257839626919"
      ]
     },
     "execution_count": 173,
     "metadata": {},
     "output_type": "execute_result"
    }
   ],
   "source": [
    "coef_deter(y,prediction) # Not linear problem 0.45 "
   ]
  },
  {
   "cell_type": "code",
   "execution_count": null,
   "metadata": {},
   "outputs": [],
   "source": []
  },
  {
   "cell_type": "code",
   "execution_count": null,
   "metadata": {},
   "outputs": [],
   "source": []
  }
 ],
 "metadata": {
  "kernelspec": {
   "display_name": "Python 3",
   "language": "python",
   "name": "python3"
  },
  "language_info": {
   "codemirror_mode": {
    "name": "ipython",
    "version": 3
   },
   "file_extension": ".py",
   "mimetype": "text/x-python",
   "name": "python",
   "nbconvert_exporter": "python",
   "pygments_lexer": "ipython3",
   "version": "3.7.4"
  }
 },
 "nbformat": 4,
 "nbformat_minor": 2
}
